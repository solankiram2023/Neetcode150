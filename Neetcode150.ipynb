{
  "cells": [
    {
      "cell_type": "markdown",
      "metadata": {},
      "source": [
        "# Neetcode150"
      ]
    },
    {
      "cell_type": "markdown",
      "metadata": {},
      "source": [
        "# Question#1\n",
        "\n",
        "Contains Duplicate\n",
        "Solved \n",
        "Given an integer array nums, return true if any value appears more than once in the array, otherwise return false.\n",
        "\n",
        "Example 1:\n",
        "\n",
        "Input: nums = [1, 2, 3, 3]\n",
        "\n",
        "Output: true\n",
        "\n",
        "Example 2:\n",
        "\n",
        "Input: nums = [1, 2, 3, 4]\n",
        "\n",
        "Output: false"
      ]
    },
    {
      "cell_type": "code",
      "execution_count": 2,
      "metadata": {},
      "outputs": [
        {
          "name": "stdout",
          "output_type": "stream",
          "text": [
            "Input: [1, 2, 3, 3]\n",
            "Output: True\n"
          ]
        }
      ],
      "source": [
        "from typing import List\n",
        "\n",
        "class Solution:\n",
        "    def hasDuplicate(self, nums:List[int])->bool:\n",
        "      for i in range(len(nums)):\n",
        "        for j in range(i+1, len(nums)):\n",
        "          if nums[i]==nums[j]:\n",
        "            return True\n",
        "      return False  \n",
        "\n",
        "solution = Solution()\n",
        "\n",
        "nums = [1, 2, 3, 3]\n",
        "\n",
        "result =solution.hasDuplicate(nums)\n",
        "\n",
        "print(f\"Input: {nums}\")\n",
        "print(f\"Output: {result}\")"
      ]
    },
    {
      "cell_type": "code",
      "execution_count": 4,
      "metadata": {},
      "outputs": [
        {
          "name": "stdout",
          "output_type": "stream",
          "text": [
            "Input: [1, 2, 3, 4]\n",
            "Output: False\n"
          ]
        }
      ],
      "source": [
        "class Solution:\n",
        "    def hasDuplicate(self, nums:List[int])->bool:\n",
        "        nums.sort()\n",
        "        for i in range(1, len(nums)):\n",
        "                if nums[i] == nums[i-1]:\n",
        "                    return True\n",
        "                return False\n",
        "\n",
        "solution = Solution()\n",
        "\n",
        "nums = [1, 2, 3, 4]\n",
        "\n",
        "result = solution.hasDuplicate(nums)\n",
        "\n",
        "print(f\"Input: {nums}\")\n",
        "print(f\"Output: {result}\")"
      ]
    }
  ],
  "metadata": {
    "colab": {
      "provenance": []
    },
    "kernelspec": {
      "display_name": "Python 3",
      "name": "python3"
    },
    "language_info": {
      "codemirror_mode": {
        "name": "ipython",
        "version": 3
      },
      "file_extension": ".py",
      "mimetype": "text/x-python",
      "name": "python",
      "nbconvert_exporter": "python",
      "pygments_lexer": "ipython3",
      "version": "3.13.1"
    }
  },
  "nbformat": 4,
  "nbformat_minor": 0
}
